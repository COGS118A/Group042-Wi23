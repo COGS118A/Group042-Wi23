{
 "cells": [
  {
   "cell_type": "markdown",
   "metadata": {},
   "source": [
    "# COGS 118A - Project Checkpoint"
   ]
  },
  {
   "cell_type": "markdown",
   "metadata": {},
   "source": [
    "# Names\n",
    "\n",
    "Hopefully your team is at least this good. Obviously you should replace these with your names.\n",
    "\n",
    "- Masiah Manzano\n",
    "- Jesus Enrique Mendez\n",
    "- Armaan Johal\n",
    "- \n",
    "- "
   ]
  },
  {
	"attachments": {},
			"cell_type": "markdown",
			"metadata": {},
			"source": [
				"# Abstract \n",
				"The goal that we want to solve is to help the world find an answer to whatever it is that they are askiung for. We thought back to how when we were young, we ould ask a magiuc 8 ball anything and recieve an answer, but what if we can somehow manipulate this so that the magic 8 ball can be more like how CHAT GPT is for everyone nowadays. Where the user will ask a question they feel they need an answer to that is not necessarily academic, and unlik eCHAT GPT, it can be about anything with no restrictions and still recieve an answer.The data we will be utizilizing is yet to be determined but we plan on taking a public poll from our peers on what questions they would really want answered and it can be about anythig. Lastly, success will be measured when an adequate answered can be given that means satisfactory for the one who is asking or magic 8 ball. The data used throughout this project represents what the user will be inputing in the format of a question and it will be measured through various responses that are placed into the code to give the user a variety of different answers for what they are asking. Lastly, performance will be measured if the answers given back actually make sense for what is asked, if it is too random then this will be measured as a failure since our goal here is to give back the user a answer thewy can be happy with. \n"
   ]
  },
  {
   "cell_type": "markdown",
   "metadata": {},
   "source": [
    "# Background\n",
    "\n",
    "Fill in the background and discuss the kind of prior work that has gone on in this research area here. **Use inline citation** to specify which references support which statements.  You can do that through HTML footnotes (demonstrated here). I used to reccommend Markdown footnotes (google is your friend) because they are simpler but recently I have had some problems with them working for me whereas HTML ones always work so far. So use the method that works for you, but do use inline citations.\n",
    "\n",
    "Here is an example of inline citation. After government genocide in the 20th century, real birds were replaced with surveillance drones designed to look just like birds<a name=\"lorenz\"></a>[<sup>[1]</sup>](#lorenznote). Use a minimum of 2 or 3 citations, but we prefer more <a name=\"admonish\"></a>[<sup>[2]</sup>](#admonishnote). You need enough citations to fully explain and back up important facts. \n",
    "\n",
    "Remeber you are trying to explain why someone would want to answer your question or why your hypothesis is in the form that you've stated. "
   ]
  },
  {
   "cell_type": "markdown",
   "metadata": {},
   "source": [
    "# Problem Statement\n",
    "\n",
    "Clearly describe the problem that you are solving. Avoid ambiguous words. The problem described should be well defined and should have at least one ML-relevant potential solution. Additionally, describe the problem thoroughly such that it is clear that the problem is quantifiable (the problem can be expressed in mathematical or logical terms), measurable (the problem can be measured by some metric and clearly observed), and replicable (the problem can be reproduced and occurs more than once)."
   ]
  },
  {
   "cell_type": "markdown",
   "metadata": {},
   "source": [
    "# Data\n",
    "\n",
    "UPDATED FROM PROPOSAL!\n",
    "\n",
    "You should have obtained and cleaned (if necessary) data you will use for this project.\n",
    "\n",
    "Please give the following infomration for each dataset you are using\n",
    "- As a refrence, we decided to research on some common questions asked by people and we figured the best way to do this is by asking questions that truly get to kno wsomeone so we stumbled upon these 100 questions and here is the link https://www.signupgenius.com/groups/getting-to-know-you-questions.cfm. We primarliy used this as a referrence for the type of questions we want to ask and for what to expect to recieve if these type of questions are asked\n",
    "- As of right now our number of current variables are not as high as we would like but we are still constantly updating this so that it can reach a great amount for users to ask as many questiuons as they want and not recieve similar answers to said questions\n",
    "- Our observations consists of finding more ways for us to implement methods of greater responses. What we mean byu this is that we want to be able to answer questions without a one word answer. We want the user to actually fel as if they are having a conversation with our code\n",
    "- We currently are focusing on ways to make our code look clean by making sure that a simpole question can recieve an answer. We have removed a lot of unnecessary code that just made what we had look like a lot. We stuck to what just seems to work and now we are currently fiindings ways to make our output go from seeming like it is a random answer to actually being an answer which makes sense \n"
   ]
  },
  {
 "attachments": {},
			"cell_type": "markdown",
			"metadata": {},
			"source": [
				"# Proposed Solution\n",
				"\n",
				"Our proposed solution to make sure that the user will get an answer which makes senmse is by implementing ocde that notices what the user is askign to give backj a specific answer. We currently decided to use if statements. So, if our user starts off by asking a 'can' question it would give back a certain reply. This is how we plan to make sure this project can get interesting. While it may seem basic to be working this, it is so fun to do this. We know that classes can be seriuous at times but with this project and the liberty we have to do what we want with this is just so awesome and we truly are havign a great time working on this. We hope our final product can help others see that this is something cool and can be played around with."
			]		
  },
  {
   "cell_type": "markdown",
   "metadata": {},
   "source": [
    "# Evaluation Metrics\n",
    "\n",
    "One evaluation metric to be sure our code is working as it should is to definitely place in a numerous amount of questions that are structured in the way to make sure our if statements throughout the code are working properly."
   ]
  },
  {
   "cell_type": "markdown",
   "metadata": {},
   "source": [
    "# Preliminary results\n",
    "\n",
    "NEW SECTION!\n",
    "\n",
    "Please show any preliminary results you have managed to obtain.\n",
    "\n",
    "- In the begining we starteds off with only a few answers to any given question and as of right now, we have a total of 14 answers. While thisn is an im  provement, we do not consider thnis a pass because while we do have a good amount of answers, they appear to be random rather than being meanful to ny given question. This currently is a struggle fopr us because we want to make the output not seem random. Or at least that is our current goal. Here is small part of our code to showcase the output, first we have the answers which we numbered as 'Answer 1' and then we can ask any given question and to make it interesting the output first starts off by stating, 'Oh hello there, did not expect to see anyone around this time. My name is Steven but most people call me the magical 8 ball haha. Well enter your name, this helps me sink into the many alternate timelines to give you a concrete answer' which then the user casn place their name and then it will be prompted with (If you put your name as Jake for example) 'Jake, Ahh yess! I knew you would come here. Get it? Sorry my humors all ROUND up. Hahah because I'm a ball. Well anyways, ask away..' That is the current outpouts we have and we want to expand upon this to make it even more unique and ofc ourse after a question is asked it will reply with any of the 14 different answers.
   ]
  },
  {
   "cell_type": "markdown",
   "metadata": {},
   "source": [
    "# Ethics & Privacy"
   ]
  },
  {
  "attachments": {},
			"cell_type": "markdown",
			"metadata": {},
			"source": [
				"The ethical problems we have concluded on is that soime users may find that we will not necessarily have a limit on what can be asked so this may come as a shock to users because what if a user asks an innapropiate answer so we are stil working on ways to limit this while still iving the user the ability to ask whatever they may please.\n",
				"\n",
				"Another concern is that we may not be able to make the greatest magic 8 ball to perform in the best way possible. But this is just more of a personal problem and we are still going to try our absolute best to make the best final project that we can as a team."
   ]
  },
  {
   "cell_type": "markdown",
   "metadata": {},
   "source": [
    "# Team Expectations "
   ]
  },
  {
   "attachments": {},
			"cell_type": "markdown",
			"metadata": {},
			"source": [
				"* The team expectations above all else is that we will work as equals and no one is better than the other or should feel as they have to do all the work themselves.\n",
				"* Meet weekly on Discord\n",
				"* Constant updates via Discord\n",
				"* Maintian a safe work environement for all groupmates\n",
				"* If a problem occurs, then the one experiencing said problem should feel free to ask the other for help because at the end of the day we are not just a team of random students here at UCSD, we are a team that can work well and efficient to meet the given deadlines given to us by our wonderful professor\n",
				"* We will work on this project when we both have the free time to do so, for example in the afternoons after our core classes are done"
   ]
  },
  {
   "cell_type": "markdown",
   "metadata": {},
   "source": [
    "# Project Timeline Proposal"
   ]
  },
  {
 "attachments": {},
			"cell_type": "markdown",
			"metadata": {},
			"source": [
				"| Meeting Date  | Meeting Time| Completed Before Meeting  | Discuss at Meeting |\n",
				"|---|---|---|---|\n",
				"| 2/21  | 7 PM |  Discuss other topics for project if need be  | Communication among teammembers is key | \n",
				"| 2/22  | 7 PM |  Assign what to do | Finish up project proposal | \n",
				"| 2/25  | 7 PM |  Discuss ways to make the current stage of code better | Give feedback for teammates |\n",
				"| 3/1  | 7 PM  | Go over methods that worked to clean our code (This worked for us to realize we should use and figure out how we can use if statements so our code can flow better)| Discuss next steps for project |\n",
				"| 3/8  | 6 PM  | Look at peer review responses | Discuss/edit project code (This helped us figure out what we really want from our project. While we were given feedback to perhpas think of something else we still want to work on what we think can have great potential in the finalized product, but there is still room to rethink) |\n",
				"| 3/13  | 5 PM  | Draft results/conclusion/discussion | Discuss/edit |\n",
				"| 3/22  | 2 PM  | Final touches to the prject| Turn in Final Project  |"
   ]
  },
  {
   "cell_type": "markdown",
   "metadata": {},
   "source": [
    "# Footnotes\n",
    "<a name=\"lorenznote\"></a>1.[^](#lorenz): Lorenz, T. (9 Dec 2021) Birds Aren’t Real, or Are They? Inside a Gen Z Conspiracy Theory. *The New York Times*. https://www.nytimes.com/2021/12/09/technology/birds-arent-real-gen-z-misinformation.html<br> \n",
    "<a name=\"admonishnote\"></a>2.[^](#admonish): Also refs should be important to the background, not some randomly chosen vaguely related stuff. Include a web link if possible in refs as above.<br>\n",
    "<a name=\"sotanote\"></a>3.[^](#sota): Perhaps the current state of the art solution such as you see on [Papers with code](https://paperswithcode.com/sota). Or maybe not SOTA, but rather a standard textbook/Kaggle solution to this kind of problem\n"
   ]
  },
  {
   "cell_type": "code",
   "execution_count": null,
   "metadata": {},
   "outputs": [],
   "source": []
  }
 ],
 "metadata": {
  "kernelspec": {
   "display_name": "Python 3",
   "language": "python",
   "name": "python3"
  },
  "language_info": {
   "codemirror_mode": {
    "name": "ipython",
    "version": 3
   },
   "file_extension": ".py",
   "mimetype": "text/x-python",
   "name": "python",
   "nbconvert_exporter": "python",
   "pygments_lexer": "ipython3",
   "version": "3.8.8"
  }
 },
 "nbformat": 4,
 "nbformat_minor": 2
}
