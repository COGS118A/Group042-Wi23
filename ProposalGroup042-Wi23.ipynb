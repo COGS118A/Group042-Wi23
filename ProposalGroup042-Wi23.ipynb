{
	"cells": [{
			"attachments": {},
			"cell_type": "markdown",
			"metadata": {},
			"source": [
				"# COGS 118A - Project Proposal"
			]
		},
		{
			"attachments": {},
			"cell_type": "markdown",
			"metadata": {},
			"source": [
				"# Names\n",
				"\n",
				"- Masiah Manzano\n",
				"- Jesus Enrique Mendez\n",
				"- Armaan\n",
				"- "
			]
		},
		{
			"attachments": {},
			"cell_type": "markdown",
			"metadata": {},
			"source": [
				"# Abstract \n",
				"The goal that we want to solve is to help the world find an answer to whatever it is that they are askiung for. We thought back to how when we were young, we ould ask a magiuc 8 ball anything and recieve an answe, but what if we can somehow manipulate thi sso that the magic 8 ball can be more like how CHAT GPT is for everyone nowadays. Where the ser will ask a question they feel they need an answer to that is not necessarily academic, and unlik eCHAT GPT, it ccan be about anything with no restrictions and still recieve an answer.The data we will be utizilizing is yet to be determined but we plan on taking a public poll from our peers on what questions they would really want answered and it can be about anythig. Lastly, success will be measured when an adequate answered can be given that means satisfactory for the one who is asking or magic 8 ball. \n"
			]
		},
		{
			"attachments": {},
			"cell_type": "markdown",
			"metadata": {},
			"source": [
				"# Background\n",
				"\n",
				"A great example that inspired us to want to do this project is of corse from the creators of CHAT GPT, with thiis statement 'Sam Altman believes that the institutions of the world should be prepared for AI and it won't take much time for current AI to transition to 'potentially scary ones' this was a statement given by the creator of CHAT GPT, Sam Altman. This helped motivate us to want to do a different approach on what CHAT GPT has accomplished but this time with no boundaries.\n",
				"\n",
				"Sammy is simply amazing ND WONDERFUL AND IM OBSSED WITH HERRRR <3 .\n",
				"\n",
				"Another example is from Elon Musk with Neural Link. Stated by Neural Links main website is, 'Every day we’re building better tools intended to communicate with the brain. With the right team, the potential applications for this technology are limitless', with what Elon Musk is trying to accomplish, it helped motivate us to do more research on exactly what Neural Link plans on doing.\n",
				"\n",
				"While this magic 8 ball by any means does not and will not be implemented into any brains, we still want to accomplish a better connection with machine and with learning by being able to ask any questionn with a limitless answer provided for the user."
			]
		},
		{
			"attachments": {},
			"cell_type": "markdown",
			"metadata": {},
			"source": [
				"# Problem Statement\n",
				"\n",
				"In this project, we want to be able to help individuals get a satisfactory answer for whatever it may be that they want to ask. Whether it is a simple question or a personal one, we want our magic 8 ball to be able to help others. \n",
				"Above all, we want to do the best we can\n"
			]
		},
		{
			"attachments": {},
			"cell_type": "markdown",
			"metadata": {},
			"source": [
				"# Data\n",
				"\n",
				"In terms of 'cleaning our code, we will be using for loops so that it will not get messy when numerous questions are asked (however, we are still debating on if we want to make it to where a user can ask multiple or just one question at a time)\n",
				"\n",
				"At the moment we are uncertain exactly of what sort of data we will be implementing into the finalized project, byut the genreral iidea we have is the criitical variables will be depending on the certain questions asked to our magic 8 ball."
			]
		},
		{
			"attachments": {},
			"cell_type": "markdown",
			"metadata": {},
			"source": [
				"# Proposed Solution\n",
				"\n",
				"The proposed solution we have at the moment is to basically just use alot of personalised questionares about what people tend to want to know. We will use this (although this is planning to change), to get a better idea on how we can get our magic 8 ball to properally work for the user."
			]
		},
		{
			"attachments": {},
			"cell_type": "markdown",
			"metadata": {},
			"source": [
				"# Evaluation Metrics\n",
				"\n",
				"One evaluation metric we will be using is again , as we stated before, depending onn thhe certain question, there will be a certaiin specific answer. If the question given to our magic 8 ball is a personal question, then the answer given back will be sincere.\n",
				"\n",
				"If the questiion is one that requires an academic approach, then the answer willl be appropriate in those terms. And if a person decides to ask a question that may seem private, then the answer given back will be given a manner that will be appropiate for the user."
			]
		},
		{
			"cell_type": "markdown",
			"metadata": {},
			"source": [
				"# Ethics & Privacy"
			]
		},
		{
			"attachments": {},
			"cell_type": "markdown",
			"metadata": {},
			"source": [
				"The ethical problems we have concluded on is that soime users may find that we will not necessarily have a limit on what can be asked so this may come as a shock to users because what if a user asks an innapropiate answer so we are stil working on ways to limit this while still iving the user the ability to ask whatever they may please.\n",
				"\n",
				"Another concern is that we may not be able to make the greatest magic 8 ball to perform in the best way possible. But this is just more of a personal problem and we are still going to try our absolute best to make the best final project that we can as a team."
			]
		},
		{
			"cell_type": "markdown",
			"metadata": {},
			"source": [
				"# Team Expectations "
			]
		},
		{
			"attachments": {},
			"cell_type": "markdown",
			"metadata": {},
			"source": [
				"* The team expectations above all else is that we will work as equals and no one is better than the other or should feel as they have to do all the work themselves.\n",
				"* Meet weekly on Discord\n",
				"* Constant updates via Discord\n",
				"* A\n",
				"* If a problem occurs, then the one experiencing said problem should feel free to ask the other for help because at the end of the day we are not just a team of random students here at UCSD, we are a team that can work well and efficient to meet the given deadlines given to us by our wonderful professor\n",
				"* We will work on this project when we both have the free time to do so, for example in the afternoons after our core classes are done"
			]
		},
		{
			"cell_type": "markdown",
			"metadata": {},
			"source": [
				"# Project Timeline Proposal"
			]
		},
		{
			"attachments": {},
			"cell_type": "markdown",
			"metadata": {},
			"source": [
				"| Meeting Date  | Meeting Time| Completed Before Meeting  | Discuss at Meeting |\n",
				"|---|---|---|---|\n",
				"| 2/21  | 7 PM |  Discuss other topics for project if need be  | Communication among teammembers is key | \n",
				"| 2/22  | 7 PM |  Assign what to do | Finish up project proposal | \n",
				"| 2/25  | 7 PM |  Discuss ways to make the current stage of code better | Give feedback for teammates |\n",
				"| 3/1  | 7 PM  | Researchmethods for team bulding exercise| Discuss next steps for project |\n",
				"| 3/7  | 7 PM  | Look at peer review responses | Discuss/edit project code |\n",
				"| 3/13  | 7 PM  | Draft results/conclusion/discussion | Discuss/edit |\n",
				"| 3/21  | 7 PM  | Final touches to the prject| Turn in Final Project  |"
			]
		},
		{
			"attachments": {},
			"cell_type": "markdown",
			"metadata": {},
			"source": []
		},
		{
			"cell_type": "markdown",
			"metadata": {},
			"source": []
		}
	],
	"metadata": {
		"kernelspec": {
			"display_name": "Python 3.7.4 64-bit",
			"language": "python",
			"name": "python3"
		},
		"language_info": {
			"codemirror_mode": {
				"name": "ipython",
				"version": 3
			},
			"file_extension": ".py",
			"mimetype": "text/x-python",
			"name": "python",
			"nbconvert_exporter": "python",
			"pygments_lexer": "ipython3",
			"version": "3.7.4"
		},
		"vscode": {
			"interpreter": {
				"hash": "aee8b7b246df8f9039afb4144a1f6fd8d2ca17a180786b69acc140d282b71a49"
			}
		}
	},
	"nbformat": 4,
	"nbformat_minor": 2
}
